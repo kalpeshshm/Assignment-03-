{
 "cells": [
  {
   "cell_type": "markdown",
   "id": "22035503",
   "metadata": {},
   "source": [
    "# Assignment-3: Functions | Modules - 1"
   ]
  },
  {
   "cell_type": "markdown",
   "id": "ad6b7ef7",
   "metadata": {},
   "source": [
    "#  1. Game of \"Functions\""
   ]
  },
  {
   "cell_type": "markdown",
   "id": "43e3b06c",
   "metadata": {},
   "source": [
    "# Write a Python function to sum all the numbers in a list."
   ]
  },
  {
   "cell_type": "code",
   "execution_count": 8,
   "id": "ff06e011",
   "metadata": {},
   "outputs": [
    {
     "name": "stdout",
     "output_type": "stream",
     "text": [
      "20\n"
     ]
    }
   ],
   "source": [
    "def sum(numbers):\n",
    "    total = 0\n",
    "    for x in numbers:\n",
    "        total += x\n",
    "    return total \n",
    "print(sum((8,2,3,0,7)))"
   ]
  }
 ],
 "metadata": {
  "kernelspec": {
   "display_name": "Python 3 (ipykernel)",
   "language": "python",
   "name": "python3"
  },
  "language_info": {
   "codemirror_mode": {
    "name": "ipython",
    "version": 3
   },
   "file_extension": ".py",
   "mimetype": "text/x-python",
   "name": "python",
   "nbconvert_exporter": "python",
   "pygments_lexer": "ipython3",
   "version": "3.10.0"
  }
 },
 "nbformat": 4,
 "nbformat_minor": 5
}
