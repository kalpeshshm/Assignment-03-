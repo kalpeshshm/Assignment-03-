{
 "cells": [
  {
   "cell_type": "markdown",
   "id": "61f9971c",
   "metadata": {},
   "source": [
    "# Assignment-3: Functions | Modules - 3"
   ]
  },
  {
   "cell_type": "markdown",
   "id": "84133282",
   "metadata": {},
   "source": [
    "# 3. Calculate the Upper and The lower Case"
   ]
  },
  {
   "cell_type": "markdown",
   "id": "a2fbc3fe",
   "metadata": {},
   "source": [
    "# Write a Python function that accepts a string and calculate the number of upper case letters and lower case letters.\n",
    "\n"
   ]
  },
  {
   "cell_type": "code",
   "execution_count": 4,
   "id": "08c15c6b",
   "metadata": {},
   "outputs": [
    {
     "name": "stdout",
     "output_type": "stream",
     "text": [
      "orignal string: The quick Brow Fox\n",
      "no. of Upper casecharacters : 3\n",
      "no.of Lower case characters : 12\n"
     ]
    }
   ],
   "source": [
    "def string_test(s):\n",
    "    d={\"UPPER_CASE\":0,\"LOWER_CASE\":0}\n",
    "    for c in s:\n",
    "        if c.isupper():\n",
    "            d[\"UPPER_CASE\"]+=1\n",
    "        elif c.islower():\n",
    "            d[\"LOWER_CASE\"]+=1\n",
    "        else:\n",
    "            pass\n",
    "    print(\"orignal string:\",s)\n",
    "    print(\"no. of Upper casecharacters :\", d[\"UPPER_CASE\"])\n",
    "    print(\"no.of Lower case characters :\", d[\"LOWER_CASE\"])\n",
    "    \n",
    "string_test ('The quick Brow Fox')"
   ]
  },
  {
   "cell_type": "code",
   "execution_count": null,
   "id": "b3c155f2",
   "metadata": {},
   "outputs": [],
   "source": []
  }
 ],
 "metadata": {
  "kernelspec": {
   "display_name": "Python 3 (ipykernel)",
   "language": "python",
   "name": "python3"
  },
  "language_info": {
   "codemirror_mode": {
    "name": "ipython",
    "version": 3
   },
   "file_extension": ".py",
   "mimetype": "text/x-python",
   "name": "python",
   "nbconvert_exporter": "python",
   "pygments_lexer": "ipython3",
   "version": "3.10.0"
  }
 },
 "nbformat": 4,
 "nbformat_minor": 5
}
