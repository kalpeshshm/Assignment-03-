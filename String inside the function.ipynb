{
 "cells": [
  {
   "cell_type": "markdown",
   "id": "3d4452ea",
   "metadata": {},
   "source": [
    "# Assignment-3: Functions | Modules - 2"
   ]
  },
  {
   "cell_type": "markdown",
   "id": "370edc7f",
   "metadata": {},
   "source": [
    "# 2. String inside the function"
   ]
  },
  {
   "cell_type": "markdown",
   "id": "2d3d1bc3",
   "metadata": {},
   "source": [
    "# Write a Python program to reverse a string.\n"
   ]
  },
  {
   "cell_type": "code",
   "execution_count": 3,
   "id": "602aba05",
   "metadata": {},
   "outputs": [
    {
     "name": "stdout",
     "output_type": "stream",
     "text": [
      "dcba4321\n"
     ]
    }
   ],
   "source": [
    "def my_function(x):\n",
    "    return x[::-1]\n",
    "mytxt = my_function(\"1234abcd\")\n",
    "print(mytxt)"
   ]
  }
 ],
 "metadata": {
  "kernelspec": {
   "display_name": "Python 3 (ipykernel)",
   "language": "python",
   "name": "python3"
  },
  "language_info": {
   "codemirror_mode": {
    "name": "ipython",
    "version": 3
   },
   "file_extension": ".py",
   "mimetype": "text/x-python",
   "name": "python",
   "nbconvert_exporter": "python",
   "pygments_lexer": "ipython3",
   "version": "3.10.0"
  }
 },
 "nbformat": 4,
 "nbformat_minor": 5
}
